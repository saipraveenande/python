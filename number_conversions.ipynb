{
  "nbformat": 4,
  "nbformat_minor": 0,
  "metadata": {
    "colab": {
      "provenance": [],
      "authorship_tag": "ABX9TyOGPXjjuiYzqGKoBvlbWBz7",
      "include_colab_link": true
    },
    "kernelspec": {
      "name": "python3",
      "display_name": "Python 3"
    },
    "language_info": {
      "name": "python"
    }
  },
  "cells": [
    {
      "cell_type": "markdown",
      "metadata": {
        "id": "view-in-github",
        "colab_type": "text"
      },
      "source": [
        "<a href=\"https://colab.research.google.com/github/saipraveenande/python/blob/main/number_conversions.ipynb\" target=\"_parent\"><img src=\"https://colab.research.google.com/assets/colab-badge.svg\" alt=\"Open In Colab\"/></a>"
      ]
    },
    {
      "cell_type": "markdown",
      "source": [
        "##decimal to binary \n",
        "###with functions"
      ],
      "metadata": {
        "id": "KKekGTSWZaar"
      }
    },
    {
      "cell_type": "code",
      "execution_count": 1,
      "metadata": {
        "colab": {
          "base_uri": "https://localhost:8080/"
        },
        "id": "KArE5ywEOHOK",
        "outputId": "c1e6d6f9-1afe-410c-cf0c-67d3644ff756"
      },
      "outputs": [
        {
          "output_type": "stream",
          "name": "stdout",
          "text": [
            "The binary representation of 42 is 101010\n"
          ]
        }
      ],
      "source": [
        "\n",
        "def decimal_to_binary(num):\n",
        "    return bin(num).replace(\"0b\", \"\")\n",
        "\n",
        "decimal_number = 42\n",
        "binary_representation = decimal_to_binary(decimal_number)\n",
        "\n",
        "print(\"The binary representation of\", decimal_number, \"is\", binary_representation)\n"
      ]
    },
    {
      "cell_type": "markdown",
      "source": [
        "###without using functions"
      ],
      "metadata": {
        "id": "CIbjnGyoZo_y"
      }
    },
    {
      "cell_type": "code",
      "source": [
        "\n",
        "def decimal_to_binary(num):\n",
        "    binary = \"\"\n",
        "    while num > 0:\n",
        "        binary = str(num % 2) + binary\n",
        "        num = num // 2\n",
        "    return binary\n",
        "\n",
        "decimal_number = 42\n",
        "binary_representation = decimal_to_binary(decimal_number)\n",
        "\n",
        "print(\"The binary representation of\", decimal_number, \"is\", binary_representation)\n"
      ],
      "metadata": {
        "colab": {
          "base_uri": "https://localhost:8080/"
        },
        "id": "O_pvAgjBOj9i",
        "outputId": "3edaf8cd-24d3-495a-c583-539f67716e76"
      },
      "execution_count": 2,
      "outputs": [
        {
          "output_type": "stream",
          "name": "stdout",
          "text": [
            "The binary representation of 42 is 101010\n"
          ]
        }
      ]
    },
    {
      "cell_type": "markdown",
      "source": [
        "##Binary to Decimal\n",
        "###with functions"
      ],
      "metadata": {
        "id": "_rEFhPbfZvii"
      }
    },
    {
      "cell_type": "code",
      "source": [
        "binary_number = \"101010\"\n",
        "decimal_representation = int(binary_number, 2)\n",
        "\n",
        "print(\"The decimal representation of\", binary_number, \"is\", decimal_representation)\n"
      ],
      "metadata": {
        "colab": {
          "base_uri": "https://localhost:8080/"
        },
        "id": "FRFY1bi_O5J4",
        "outputId": "e27f10d3-275c-48f3-df05-64914c6a24bc"
      },
      "execution_count": 3,
      "outputs": [
        {
          "output_type": "stream",
          "name": "stdout",
          "text": [
            "The decimal representation of 101010 is 42\n"
          ]
        }
      ]
    },
    {
      "cell_type": "markdown",
      "source": [
        "###without using functions"
      ],
      "metadata": {
        "id": "MEuEBe-saJrC"
      }
    },
    {
      "cell_type": "code",
      "source": [
        "def binary_to_decimal(binary):\n",
        "    decimal = 0\n",
        "    binary = str(binary)\n",
        "    for digit in binary:\n",
        "        decimal = decimal*2 + int(digit)\n",
        "    return decimal\n",
        "\n",
        "binary_number = '101010'\n",
        "decimal_representation = binary_to_decimal(binary_number)\n",
        "\n",
        "print(\"The decimal representation of\", binary_number, \"is\", decimal_representation)\n"
      ],
      "metadata": {
        "colab": {
          "base_uri": "https://localhost:8080/"
        },
        "id": "c7-0QyIHPP6R",
        "outputId": "560997f0-adb5-4535-ffdf-aba63ad03f66"
      },
      "execution_count": 4,
      "outputs": [
        {
          "output_type": "stream",
          "name": "stdout",
          "text": [
            "The decimal representation of 101010 is 42\n"
          ]
        }
      ]
    },
    {
      "cell_type": "code",
      "source": [],
      "metadata": {
        "id": "ZQSlLIPLPsaR"
      },
      "execution_count": null,
      "outputs": []
    },
    {
      "cell_type": "markdown",
      "source": [
        "## decimal to octal\n",
        "###with functions"
      ],
      "metadata": {
        "id": "urw0F7QIaT6-"
      }
    },
    {
      "cell_type": "code",
      "source": [
        "decimal_number = 42\n",
        "octal_representation = oct(decimal_number).replace(\"0o\", \"\")\n",
        "\n",
        "print(\"The octal representation of\", decimal_number, \"is\", octal_representation)\n"
      ],
      "metadata": {
        "id": "8nxbzLVSPt2H"
      },
      "execution_count": null,
      "outputs": []
    },
    {
      "cell_type": "markdown",
      "source": [
        "###without using functions"
      ],
      "metadata": {
        "id": "rAcfWsa4aZwW"
      }
    },
    {
      "cell_type": "code",
      "source": [
        "def decimal_to_octal(decimal_num):\n",
        "    octal = \"\"\n",
        "    while decimal_num != 0:\n",
        "        octal = str(decimal_num % 8) + octal\n",
        "        decimal_num = decimal_num // 8\n",
        "    return octal\n",
        "\n",
        "decimal_number = 42\n",
        "octal_representation = decimal_to_octal(decimal_number)\n",
        "\n",
        "print(\"The octal representation of\", decimal_number, \"is\", octal_representation)\n"
      ],
      "metadata": {
        "colab": {
          "base_uri": "https://localhost:8080/"
        },
        "id": "9iuWwcpgRhll",
        "outputId": "b759184f-5e12-4fec-8b7a-51f27baeda8e"
      },
      "execution_count": 5,
      "outputs": [
        {
          "output_type": "stream",
          "name": "stdout",
          "text": [
            "The octal representation of 42 is 52\n"
          ]
        }
      ]
    },
    {
      "cell_type": "markdown",
      "source": [
        "##Octal to Decimal\n",
        "###with functions\n"
      ],
      "metadata": {
        "id": "VcFVrCXTahl6"
      }
    },
    {
      "cell_type": "code",
      "source": [
        "octal_number = \"52\"\n",
        "decimal_representation = int(octal_number, 8)\n",
        "\n",
        "print(\"The decimal representation of\", octal_number, \"is\", decimal_representation)\n"
      ],
      "metadata": {
        "id": "So1-4JCKR0bX"
      },
      "execution_count": null,
      "outputs": []
    },
    {
      "cell_type": "markdown",
      "source": [
        "###without using functions"
      ],
      "metadata": {
        "id": "ZUsXSQgdargD"
      }
    },
    {
      "cell_type": "code",
      "source": [
        "def octal_to_decimal(octal):\n",
        "    decimal = 0\n",
        "    octal = str(octal)\n",
        "    for digit in octal:\n",
        "        decimal = decimal * 8 + int(digit)\n",
        "    return decimal\n",
        "\n",
        "octal_number = \"52\"\n",
        "decimal_representation = octal_to_decimal(octal_number)\n",
        "\n",
        "print(\"The decimal representation of\", octal_number, \"is\", decimal_representation)\n"
      ],
      "metadata": {
        "colab": {
          "base_uri": "https://localhost:8080/"
        },
        "id": "nBVZ1z8dSEQv",
        "outputId": "4cd29223-bf41-4f09-d343-16a03f736999"
      },
      "execution_count": 6,
      "outputs": [
        {
          "output_type": "stream",
          "name": "stdout",
          "text": [
            "The decimal representation of 52 is 42\n"
          ]
        }
      ]
    },
    {
      "cell_type": "code",
      "source": [],
      "metadata": {
        "id": "vV2PaxQhSSJp"
      },
      "execution_count": null,
      "outputs": []
    },
    {
      "cell_type": "markdown",
      "source": [
        "##Decimal to Hexadecimal\n",
        "###with functions"
      ],
      "metadata": {
        "id": "EdF9CLprazvc"
      }
    },
    {
      "cell_type": "code",
      "source": [
        "decimal_number = 42\n",
        "hexadecimal_representation = hex(decimal_number).replace(\"0x\", \"\")\n",
        "\n",
        "print(\"The hexadecimal representation of\", decimal_number, \"is\", hexadecimal_representation)\n"
      ],
      "metadata": {
        "id": "-DKxmgD6SSWi"
      },
      "execution_count": null,
      "outputs": []
    },
    {
      "cell_type": "markdown",
      "source": [
        "###without using functions"
      ],
      "metadata": {
        "id": "PBlmI_O5a_AO"
      }
    },
    {
      "cell_type": "code",
      "source": [
        "def decimal_to_hexadecimal(decimal_num):\n",
        "    hexadecimal = \"\"\n",
        "    hex_map = \"0123456789abcdef\"\n",
        "    while decimal_num != 0:\n",
        "        hexadecimal = hex_map[decimal_num % 16] + hexadecimal\n",
        "        decimal_num = decimal_num // 16\n",
        "    return hexadecimal\n",
        "\n",
        "decimal_number = 42\n",
        "hexadecimal_representation = decimal_to_hexadecimal(decimal_number)\n",
        "\n",
        "print(\"The hexadecimal representation of\", decimal_number, \"is\", hexadecimal_representation)\n"
      ],
      "metadata": {
        "colab": {
          "base_uri": "https://localhost:8080/"
        },
        "id": "9K6Rz9W-Sxuu",
        "outputId": "7eb3a856-d229-40a3-ae27-6a19583dbb47"
      },
      "execution_count": 7,
      "outputs": [
        {
          "output_type": "stream",
          "name": "stdout",
          "text": [
            "The hexadecimal representation of 42 is 2a\n"
          ]
        }
      ]
    },
    {
      "cell_type": "markdown",
      "source": [
        "##Hexadecimal to Decimal \n",
        "###with function"
      ],
      "metadata": {
        "id": "JecT73UcbEqA"
      }
    },
    {
      "cell_type": "code",
      "source": [
        "\n",
        "hexadecimal_number = \"2a\"\n",
        "decimal_representation = int(hexadecimal_number, 16)\n",
        "\n",
        "print(\"The decimal representation of\", hexadecimal_number, \"is\", decimal_representation)\n"
      ],
      "metadata": {
        "colab": {
          "base_uri": "https://localhost:8080/"
        },
        "id": "2kDkthP7TF2L",
        "outputId": "8b0c0ba6-c352-4aa9-f93e-3a6b94ea299b"
      },
      "execution_count": 8,
      "outputs": [
        {
          "output_type": "stream",
          "name": "stdout",
          "text": [
            "The decimal representation of 2a is 42\n"
          ]
        }
      ]
    },
    {
      "cell_type": "markdown",
      "source": [
        "###without using functions"
      ],
      "metadata": {
        "id": "CLABv6t0bhBf"
      }
    },
    {
      "cell_type": "code",
      "source": [
        "##hexadecimal to decimal without using function\n",
        "def hexadecimal_to_decimal(hexadecimal_num):\n",
        "    decimal = 0\n",
        "    hex_map = {\"0\": 0, \"1\": 1, \"2\": 2, \"3\": 3, \"4\": 4, \"5\": 5, \"6\": 6, \"7\": 7, \"8\": 8, \"9\": 9, \"a\": 10, \"b\": 11, \"c\": 12, \"d\": 13, \"e\": 14, \"f\": 15}\n",
        "    hexadecimal_num = str(hexadecimal_num)\n",
        "    for i, digit in enumerate(reversed(hexadecimal_num)):\n",
        "        decimal += hex_map[digit] * (16 ** i)\n",
        "    return decimal\n",
        "\n",
        "hexadecimal_number = \"2a\"\n",
        "decimal_representation = hexadecimal_to_decimal(hexadecimal_number)\n",
        "\n",
        "print(\"The decimal representation of\", hexadecimal_number, \"is\", decimal_representation)\n"
      ],
      "metadata": {
        "colab": {
          "base_uri": "https://localhost:8080/"
        },
        "id": "SsMhCVIKTnjB",
        "outputId": "18d40639-6801-44fa-d862-c5950b5d10b7"
      },
      "execution_count": 9,
      "outputs": [
        {
          "output_type": "stream",
          "name": "stdout",
          "text": [
            "The decimal representation of 2a is 42\n"
          ]
        }
      ]
    },
    {
      "cell_type": "code",
      "source": [],
      "metadata": {
        "id": "G7x5LUBCT-JN"
      },
      "execution_count": null,
      "outputs": []
    },
    {
      "cell_type": "markdown",
      "source": [
        "##Binary to Octal \n",
        "###with functions"
      ],
      "metadata": {
        "id": "u--zF0W-bsCU"
      }
    },
    {
      "cell_type": "code",
      "source": [
        "##binary to octal with function\n",
        "binary_number = \"101010\"\n",
        "octal_representation = format(int(binary_number, 2), \"o\")\n",
        "\n",
        "print(\"The octal representation of\", binary_number, \"is\", octal_representation)\n"
      ],
      "metadata": {
        "id": "cofhR1Z6T-zu"
      },
      "execution_count": null,
      "outputs": []
    },
    {
      "cell_type": "markdown",
      "source": [
        "###without using functions"
      ],
      "metadata": {
        "id": "hw-ss9ZubyWY"
      }
    },
    {
      "cell_type": "code",
      "source": [
        "##binary to octal without function\n",
        "\n",
        "def binary_to_octal(binary_num):\n",
        "    binary_num = str(binary_num)\n",
        "    octal = \"\"\n",
        "    binary_num = \"0\" * (3 - (len(binary_num) % 3)) + binary_num if len(binary_num) % 3 != 0 else binary_num\n",
        "    binary_map = {\"000\": \"0\", \"001\": \"1\", \"010\": \"2\", \"011\": \"3\", \"100\": \"4\", \"101\": \"5\", \"110\": \"6\", \"111\": \"7\"}\n",
        "    for i in range(0, len(binary_num), 3):\n",
        "        octal += binary_map[binary_num[i:i + 3]]\n",
        "    return octal.lstrip(\"0\")\n",
        "\n",
        "binary_number = \"101010\"\n",
        "octal_representation = binary_to_octal(binary_number)\n",
        "\n",
        "print(\"The octal representation of\", binary_number, \"is\", octal_representation)\n"
      ],
      "metadata": {
        "id": "SYhLKcI9Ud92"
      },
      "execution_count": null,
      "outputs": []
    },
    {
      "cell_type": "markdown",
      "source": [
        "##Octal to Binary\n",
        "###with functions"
      ],
      "metadata": {
        "id": "METuLFd1b4N7"
      }
    },
    {
      "cell_type": "code",
      "source": [
        "##octal to binary with function\n",
        "octal_number = \"52\"\n",
        "decimal_representation = int(octal_number, 8)\n",
        "binary_representation = bin(decimal_representation)[2:]\n",
        "\n",
        "print(\"The binary representation of\", octal_number, \"is\", binary_representation)\n"
      ],
      "metadata": {
        "id": "ek_WJ8SzU7GN"
      },
      "execution_count": null,
      "outputs": []
    },
    {
      "cell_type": "markdown",
      "source": [
        "###without using functions"
      ],
      "metadata": {
        "id": "JJ_YUYeVb-0d"
      }
    },
    {
      "cell_type": "code",
      "source": [
        "##octal to binary without using functions\n",
        "def octal_to_binary(octal_num):\n",
        "    decimal = 0\n",
        "    octal_map = {\"0\": 0, \"1\": 1, \"2\": 2, \"3\": 3, \"4\": 4, \"5\": 5, \"6\": 6, \"7\": 7}\n",
        "    octal_num = str(octal_num)\n",
        "    for i, digit in enumerate(reversed(octal_num)):\n",
        "        decimal += octal_map[digit] * (8 ** i)\n",
        "    binary = \"\"\n",
        "    while decimal > 0:\n",
        "        binary = str(decimal % 2) + binary\n",
        "        decimal = decimal // 2\n",
        "    return binary\n",
        "\n",
        "octal_number = \"52\"\n",
        "binary_representation = octal_to_binary(octal_number)\n",
        "\n",
        "print(\"The binary representation of\", octal_number, \"is\", binary_representation)\n"
      ],
      "metadata": {
        "colab": {
          "base_uri": "https://localhost:8080/"
        },
        "id": "UA2mBaNRVX9K",
        "outputId": "b90dedd3-e43e-480a-fac1-25dd3b706668"
      },
      "execution_count": 10,
      "outputs": [
        {
          "output_type": "stream",
          "name": "stdout",
          "text": [
            "The binary representation of 52 is 101010\n"
          ]
        }
      ]
    },
    {
      "cell_type": "code",
      "source": [],
      "metadata": {
        "id": "jTZR-ae_WKjW"
      },
      "execution_count": null,
      "outputs": []
    },
    {
      "cell_type": "markdown",
      "source": [
        "\n",
        "##Binary to Hexadecimal\n",
        "###with functions\n"
      ],
      "metadata": {
        "id": "AKaOhOrqWTML"
      }
    },
    {
      "cell_type": "code",
      "source": [
        "binary_number = \"101010\"\n",
        "decimal_representation = int(binary_number, 2)\n",
        "hexadecimal_representation = hex(decimal_representation)[2:]\n",
        "\n",
        "print(\"The hexadecimal representation of\", binary_number, \"is\", hexadecimal_representation)\n"
      ],
      "metadata": {
        "colab": {
          "base_uri": "https://localhost:8080/"
        },
        "id": "44CNelJ7WsCR",
        "outputId": "8899b854-c680-4c7d-990d-ac451d35170d"
      },
      "execution_count": 11,
      "outputs": [
        {
          "output_type": "stream",
          "name": "stdout",
          "text": [
            "The hexadecimal representation of 101010 is 2a\n"
          ]
        }
      ]
    },
    {
      "cell_type": "markdown",
      "source": [
        "###without using functions"
      ],
      "metadata": {
        "id": "h_vn3NstW96v"
      }
    },
    {
      "cell_type": "code",
      "source": [
        "def binary_to_hexadecimal(binary_num):\n",
        "    decimal = 0\n",
        "    binary_map = {\"0\": 0, \"1\": 1}\n",
        "    binary_num = str(binary_num)\n",
        "    for i, digit in enumerate(reversed(binary_num)):\n",
        "        decimal += binary_map[digit] * (2 ** i)\n",
        "    hexadecimal = \"\"\n",
        "    hex_map = {0: \"0\", 1: \"1\", 2: \"2\", 3: \"3\", 4: \"4\", 5: \"5\", 6: \"6\", 7: \"7\", 8: \"8\", 9: \"9\", 10: \"a\", 11: \"b\", 12: \"c\", 13: \"d\", 14: \"e\", 15: \"f\"}\n",
        "    while decimal > 0:\n",
        "        hexadecimal = hex_map[decimal % 16] + hexadecimal\n",
        "        decimal = decimal // 16\n",
        "    return hexadecimal\n",
        "\n",
        "binary_number = \"101010\"\n",
        "hexadecimal_representation = binary_to_hexadecimal(binary_number)\n",
        "\n",
        "print(\"The hexadecimal representation of\", binary_number, \"is\", hexadecimal_representation)\n"
      ],
      "metadata": {
        "colab": {
          "base_uri": "https://localhost:8080/"
        },
        "id": "EaJqEUAjXCtJ",
        "outputId": "d5315bef-a525-481e-d767-975762d779a8"
      },
      "execution_count": 12,
      "outputs": [
        {
          "output_type": "stream",
          "name": "stdout",
          "text": [
            "The hexadecimal representation of 101010 is 2a\n"
          ]
        }
      ]
    },
    {
      "cell_type": "markdown",
      "source": [
        "##Hexadecimal to Binary\n",
        "###with functions"
      ],
      "metadata": {
        "id": "7ByKqKTkXQLE"
      }
    },
    {
      "cell_type": "code",
      "source": [
        "hexadecimal_number = \"2a\"\n",
        "decimal_representation = int(hexadecimal_number, 16)\n",
        "binary_representation = bin(decimal_representation)[2:]\n",
        "\n",
        "print(\"The binary representation of\", hexadecimal_number, \"is\", binary_representation)\n"
      ],
      "metadata": {
        "colab": {
          "base_uri": "https://localhost:8080/"
        },
        "id": "_YGndz-5XYnn",
        "outputId": "98908327-97ed-44e7-dd7a-cdcc28347221"
      },
      "execution_count": 13,
      "outputs": [
        {
          "output_type": "stream",
          "name": "stdout",
          "text": [
            "The binary representation of 2a is 101010\n"
          ]
        }
      ]
    },
    {
      "cell_type": "markdown",
      "source": [
        "###without using functions"
      ],
      "metadata": {
        "id": "41Ccq4j6XqIT"
      }
    },
    {
      "cell_type": "code",
      "source": [
        "def hexadecimal_to_binary(hexadecimal_num):\n",
        "    decimal = 0\n",
        "    hexadecimal_map = {\"0\": 0, \"1\": 1, \"2\": 2, \"3\": 3, \"4\": 4, \"5\": 5, \"6\": 6, \"7\": 7, \"8\": 8, \"9\": 9, \"a\": 10, \"b\": 11, \"c\": 12, \"d\": 13, \"e\": 14, \"f\": 15}\n",
        "    hexadecimal_num = str(hexadecimal_num)\n",
        "    for i, digit in enumerate(reversed(hexadecimal_num)):\n",
        "        decimal += hexadecimal_map[digit.lower()] * (16 ** i)\n",
        "    binary = \"\"\n",
        "    while decimal > 0:\n",
        "        binary = str(decimal % 2) + binary\n",
        "        decimal = decimal // 2\n",
        "    return binary\n",
        "\n",
        "hexadecimal_number = \"2a\"\n",
        "binary_representation = hexadecimal_to_binary(hexadecimal_number)\n",
        "\n",
        "print(\"The binary representation of\", hexadecimal_number, \"is\", binary_representation)\n"
      ],
      "metadata": {
        "colab": {
          "base_uri": "https://localhost:8080/"
        },
        "id": "SiWSH9FbXvXy",
        "outputId": "3197050d-8c51-4a32-db72-11b2f054a081"
      },
      "execution_count": 14,
      "outputs": [
        {
          "output_type": "stream",
          "name": "stdout",
          "text": [
            "The binary representation of 2a is 101010\n"
          ]
        }
      ]
    },
    {
      "cell_type": "markdown",
      "source": [
        "##octal to hexadecimal \n",
        "###with functions"
      ],
      "metadata": {
        "id": "z1SWPa1iYGbK"
      }
    },
    {
      "cell_type": "code",
      "source": [
        "octal_number = \"52\"\n",
        "decimal_representation = int(octal_number, 8)\n",
        "hexadecimal_representation = hex(decimal_representation)[2:]\n",
        "\n",
        "print(\"The hexadecimal representation of\", octal_number, \"is\", hexadecimal_representation)\n"
      ],
      "metadata": {
        "colab": {
          "base_uri": "https://localhost:8080/"
        },
        "id": "jhSwlz9RYNv7",
        "outputId": "3afc1159-90e5-4e36-d723-1786e3c4386c"
      },
      "execution_count": 15,
      "outputs": [
        {
          "output_type": "stream",
          "name": "stdout",
          "text": [
            "The hexadecimal representation of 52 is 2a\n"
          ]
        }
      ]
    },
    {
      "cell_type": "markdown",
      "source": [
        "###without using functions"
      ],
      "metadata": {
        "id": "kApyWFehYeDC"
      }
    },
    {
      "cell_type": "code",
      "source": [
        "def octal_to_hexadecimal(octal_num):\n",
        "    decimal = 0\n",
        "    octal_map = {\"0\": 0, \"1\": 1, \"2\": 2, \"3\": 3, \"4\": 4, \"5\": 5, \"6\": 6, \"7\": 7}\n",
        "    octal_num = str(octal_num)\n",
        "    for i, digit in enumerate(reversed(octal_num)):\n",
        "        decimal += octal_map[digit] * (8 ** i)\n",
        "    hexadecimal = \"\"\n",
        "    hexadecimal_map = {\"0\": \"0\", \"1\": \"1\", \"2\": \"2\", \"3\": \"3\", \"4\": \"4\", \"5\": \"5\", \"6\": \"6\", \"7\": \"7\", \"8\": \"8\", \"9\": \"9\", \"10\": \"a\", \"11\": \"b\", \"12\": \"c\", \"13\": \"d\", \"14\": \"e\", \"15\": \"f\"}\n",
        "    while decimal > 0:\n",
        "        hexadecimal = hexadecimal_map[str(decimal % 16)] + hexadecimal\n",
        "        decimal = decimal // 16\n",
        "    return hexadecimal\n",
        "\n",
        "octal_number = \"52\"\n",
        "hexadecimal_representation = octal_to_hexadecimal(octal_number)\n",
        "\n",
        "print(\"The hexadecimal representation of\", octal_number, \"is\", hexadecimal_representation)\n"
      ],
      "metadata": {
        "id": "DhGz0956Yijb"
      },
      "execution_count": null,
      "outputs": []
    },
    {
      "cell_type": "markdown",
      "source": [
        "##Hexadexcimal to octal \n",
        "###with functions"
      ],
      "metadata": {
        "id": "6DfcJaf8Yujf"
      }
    },
    {
      "cell_type": "code",
      "source": [
        "hexadecimal_number = \"2a\"\n",
        "decimal_representation = int(hexadecimal_number, 16)\n",
        "octal_representation = format(decimal_representation, 'o')\n",
        "\n",
        "print(\"The octal representation of\", hexadecimal_number, \"is\", octal_representation)\n"
      ],
      "metadata": {
        "id": "wCvazIEsY4Aj"
      },
      "execution_count": null,
      "outputs": []
    },
    {
      "cell_type": "markdown",
      "source": [
        "###without functions"
      ],
      "metadata": {
        "id": "4aksU9L0ZJ9v"
      }
    },
    {
      "cell_type": "code",
      "source": [
        "def hexadecimal_to_octal(hexadecimal_num):\n",
        "    decimal = 0\n",
        "    hexadecimal_map = {\"0\": 0, \"1\": 1, \"2\": 2, \"3\": 3, \"4\": 4, \"5\": 5, \"6\": 6, \"7\": 7, \"8\": 8, \"9\": 9, \"a\": 10, \"b\": 11, \"c\": 12, \"d\": 13, \"e\": 14, \"f\": 15}\n",
        "    hexadecimal_num = str(hexadecimal_num)\n",
        "    for i, digit in enumerate(reversed(hexadecimal_num)):\n",
        "        decimal += hexadecimal_map[digit.lower()] * (16 ** i)\n",
        "    octal = \"\"\n",
        "    octal_map = {\"0\": \"0\", \"1\": \"1\", \"2\": \"2\", \"3\": \"3\", \"4\": \"4\", \"5\": \"5\", \"6\": \"6\", \"7\": \"7\"}\n",
        "    while decimal > 0:\n",
        "        octal = octal_map[str(decimal % 8)] + octal\n",
        "        decimal = decimal // 8\n",
        "    return octal\n",
        "\n",
        "hexadecimal_number = \"2a\"\n",
        "octal_representation = hexadecimal_to_octal(hexadecimal_number)\n",
        "\n",
        "print(\"The octal representation of\", hexadecimal_number, \"is\", octal_representation)\n"
      ],
      "metadata": {
        "colab": {
          "base_uri": "https://localhost:8080/"
        },
        "id": "haQr-3RWZM4v",
        "outputId": "2cf82bd5-815c-48d2-bb00-1cd34941d8cb"
      },
      "execution_count": 16,
      "outputs": [
        {
          "output_type": "stream",
          "name": "stdout",
          "text": [
            "The octal representation of 2a is 52\n"
          ]
        }
      ]
    }
  ]
}